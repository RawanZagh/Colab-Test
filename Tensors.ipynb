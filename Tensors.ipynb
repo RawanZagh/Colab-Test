{
  "nbformat": 4,
  "nbformat_minor": 0,
  "metadata": {
    "colab": {
      "provenance": [],
      "authorship_tag": "ABX9TyPXK5o2fmgQ6hEdNGwBHEIx",
      "include_colab_link": true
    },
    "kernelspec": {
      "name": "python3",
      "display_name": "Python 3"
    },
    "language_info": {
      "name": "python"
    }
  },
  "cells": [
    {
      "cell_type": "markdown",
      "metadata": {
        "id": "view-in-github",
        "colab_type": "text"
      },
      "source": [
        "<a href=\"https://colab.research.google.com/github/RawanZagh/Colab-Test/blob/main/Tensors.ipynb\" target=\"_parent\"><img src=\"https://colab.research.google.com/assets/colab-badge.svg\" alt=\"Open In Colab\"/></a>"
      ]
    },
    {
      "cell_type": "markdown",
      "source": [
        "# **Tensors in pytorch**\n",
        "**bold text**\n",
        "**tensors are important because it is the datastructure that suits GPU applications in colab**\n",
        "\n"
      ],
      "metadata": {
        "id": "pT06KI_E97Vi"
      }
    },
    {
      "cell_type": "markdown",
      "source": [
        "**torch 1D tensor**"
      ],
      "metadata": {
        "id": "HGtdW2mrwVXr"
      }
    },
    {
      "cell_type": "code",
      "execution_count": 19,
      "metadata": {
        "id": "8QMsza9llgHw"
      },
      "outputs": [],
      "source": [
        "import torch"
      ]
    },
    {
      "cell_type": "code",
      "source": [
        "x = torch.tensor([1,2,3])\n",
        "x"
      ],
      "metadata": {
        "colab": {
          "base_uri": "https://localhost:8080/"
        },
        "id": "nCwMkaHSmY8P",
        "outputId": "4a1ad743-f431-4fa5-e95e-dae435368590"
      },
      "execution_count": 7,
      "outputs": [
        {
          "output_type": "execute_result",
          "data": {
            "text/plain": [
              "tensor([1, 2, 3])"
            ]
          },
          "metadata": {},
          "execution_count": 7
        }
      ]
    },
    {
      "cell_type": "markdown",
      "source": [
        "**torch 2D float tensor**"
      ],
      "metadata": {
        "id": "v3YxEOAAwlNE"
      }
    },
    {
      "cell_type": "code",
      "source": [
        "y = torch.tensor([[1,2,3],[1,2,3]], dtype = torch.float)\n",
        "y"
      ],
      "metadata": {
        "colab": {
          "base_uri": "https://localhost:8080/"
        },
        "id": "zmkPkx33mdwa",
        "outputId": "a128dc69-b7a9-418f-f5c5-c67cd26f24ac"
      },
      "execution_count": 20,
      "outputs": [
        {
          "output_type": "execute_result",
          "data": {
            "text/plain": [
              "tensor([[1., 2., 3.],\n",
              "        [1., 2., 3.]])"
            ]
          },
          "metadata": {},
          "execution_count": 20
        }
      ]
    },
    {
      "cell_type": "markdown",
      "source": [
        "**torch of ones tensor of type int**"
      ],
      "metadata": {
        "id": "BZ7jI_sCwsKT"
      }
    },
    {
      "cell_type": "code",
      "source": [
        "z = torch.ones(1,2,dtype=torch.int)\n",
        "z"
      ],
      "metadata": {
        "colab": {
          "base_uri": "https://localhost:8080/"
        },
        "id": "99pDlOD-mlWP",
        "outputId": "e23b63fe-5455-4ed2-dba5-4bf66d0138f5"
      },
      "execution_count": 10,
      "outputs": [
        {
          "output_type": "execute_result",
          "data": {
            "text/plain": [
              "tensor([[1, 1]], dtype=torch.int32)"
            ]
          },
          "metadata": {},
          "execution_count": 10
        }
      ]
    },
    {
      "cell_type": "markdown",
      "source": [
        "**torch of zeros tensor of type float**"
      ],
      "metadata": {
        "id": "ybaCY9Yuwzo7"
      }
    },
    {
      "cell_type": "code",
      "source": [
        "w = torch.zeros(5,2,3,dtype = torch.float)\n",
        "w"
      ],
      "metadata": {
        "colab": {
          "base_uri": "https://localhost:8080/"
        },
        "id": "m6i3kuZxmy_T",
        "outputId": "8f8c293f-5565-4ff1-cde6-ad825342fc72"
      },
      "execution_count": 11,
      "outputs": [
        {
          "output_type": "execute_result",
          "data": {
            "text/plain": [
              "tensor([[[0., 0., 0.],\n",
              "         [0., 0., 0.]],\n",
              "\n",
              "        [[0., 0., 0.],\n",
              "         [0., 0., 0.]],\n",
              "\n",
              "        [[0., 0., 0.],\n",
              "         [0., 0., 0.]],\n",
              "\n",
              "        [[0., 0., 0.],\n",
              "         [0., 0., 0.]],\n",
              "\n",
              "        [[0., 0., 0.],\n",
              "         [0., 0., 0.]]])"
            ]
          },
          "metadata": {},
          "execution_count": 11
        }
      ]
    },
    {
      "cell_type": "markdown",
      "source": [
        "**torch of random numbers of type float**"
      ],
      "metadata": {
        "id": "nA0iEz6dw8DX"
      }
    },
    {
      "cell_type": "code",
      "source": [
        "M = torch.rand(3,4,2,dtype = torch.float)\n",
        "M"
      ],
      "metadata": {
        "colab": {
          "base_uri": "https://localhost:8080/"
        },
        "id": "wd28RfS1nK69",
        "outputId": "08158456-13f3-4864-a0c8-2df65f8985a4"
      },
      "execution_count": 12,
      "outputs": [
        {
          "output_type": "execute_result",
          "data": {
            "text/plain": [
              "tensor([[[0.0644, 0.2127],\n",
              "         [0.9678, 0.3104],\n",
              "         [0.7611, 0.5213],\n",
              "         [0.6957, 0.8050]],\n",
              "\n",
              "        [[0.1338, 0.8353],\n",
              "         [0.0635, 0.5702],\n",
              "         [0.1754, 0.4283],\n",
              "         [0.7274, 0.7922]],\n",
              "\n",
              "        [[0.1395, 0.3698],\n",
              "         [0.4321, 0.3291],\n",
              "         [0.9197, 0.4378],\n",
              "         [0.0736, 0.8890]]])"
            ]
          },
          "metadata": {},
          "execution_count": 12
        }
      ]
    },
    {
      "cell_type": "code",
      "source": [
        "print (y)"
      ],
      "metadata": {
        "colab": {
          "base_uri": "https://localhost:8080/"
        },
        "id": "QQxzA4S1nyER",
        "outputId": "97cbbb16-5b51-4dd0-bc20-a62b1c94e1e3"
      },
      "execution_count": 13,
      "outputs": [
        {
          "output_type": "stream",
          "name": "stdout",
          "text": [
            "tensor([[1., 2., 3.],\n",
            "        [1., 2., 3.]])\n"
          ]
        }
      ]
    },
    {
      "cell_type": "markdown",
      "source": [
        "**size of a tensor**"
      ],
      "metadata": {
        "id": "-e2KCwDSxEcQ"
      }
    },
    {
      "cell_type": "code",
      "source": [
        "y.size()[1]"
      ],
      "metadata": {
        "colab": {
          "base_uri": "https://localhost:8080/"
        },
        "id": "xxMgNwuAulqB",
        "outputId": "6c308c80-c926-4b05-8a55-64d19b4b425f"
      },
      "execution_count": 16,
      "outputs": [
        {
          "output_type": "execute_result",
          "data": {
            "text/plain": [
              "3"
            ]
          },
          "metadata": {},
          "execution_count": 16
        }
      ]
    },
    {
      "cell_type": "markdown",
      "source": [
        "**reshape a tensor**"
      ],
      "metadata": {
        "id": "B7ulI6BrxJYB"
      }
    },
    {
      "cell_type": "code",
      "source": [
        "y.reshape(1,6)"
      ],
      "metadata": {
        "colab": {
          "base_uri": "https://localhost:8080/"
        },
        "id": "5UU5TlS9wH4r",
        "outputId": "dff2c570-1d5e-4588-abe9-aed9d9d63b7c"
      },
      "execution_count": 17,
      "outputs": [
        {
          "output_type": "execute_result",
          "data": {
            "text/plain": [
              "tensor([[1., 2., 3., 1., 2., 3.]])"
            ]
          },
          "metadata": {},
          "execution_count": 17
        }
      ]
    },
    {
      "cell_type": "markdown",
      "source": [
        "**reshape to 1D**\n",
        "you can use the -1 as bellow or you can use squeeze function also:\n",
        "\n",
        "\n",
        "```\n",
        "# torch.squeeze(y.reshape(1,6))\n",
        "```\n",
        "\n"
      ],
      "metadata": {
        "id": "MhIopC0BxL8H"
      }
    },
    {
      "cell_type": "code",
      "source": [
        "y.reshape(-1)"
      ],
      "metadata": {
        "colab": {
          "base_uri": "https://localhost:8080/"
        },
        "id": "Fn-SPaWFwNsh",
        "outputId": "a7d5be70-1d3b-4327-8c3a-800dbda44eb4"
      },
      "execution_count": 18,
      "outputs": [
        {
          "output_type": "execute_result",
          "data": {
            "text/plain": [
              "tensor([1., 2., 3., 1., 2., 3.])"
            ]
          },
          "metadata": {},
          "execution_count": 18
        }
      ]
    },
    {
      "cell_type": "markdown",
      "source": [
        "**To sum a tensor**"
      ],
      "metadata": {
        "id": "WHQqYvS2x5T1"
      }
    },
    {
      "cell_type": "code",
      "source": [
        "y.sum()\n",
        "y"
      ],
      "metadata": {
        "colab": {
          "base_uri": "https://localhost:8080/"
        },
        "id": "QLctjUHhwSgz",
        "outputId": "de47e630-1122-49dd-abc8-cf0df9679c11"
      },
      "execution_count": 22,
      "outputs": [
        {
          "output_type": "execute_result",
          "data": {
            "text/plain": [
              "tensor([[1., 2., 3.],\n",
              "        [1., 2., 3.]])"
            ]
          },
          "metadata": {},
          "execution_count": 22
        }
      ]
    },
    {
      "cell_type": "markdown",
      "source": [
        "**sum all the columns in Y**"
      ],
      "metadata": {
        "id": "Apu_sF8CwTW3"
      }
    },
    {
      "cell_type": "code",
      "source": [
        "y.sum(0)"
      ],
      "metadata": {
        "colab": {
          "base_uri": "https://localhost:8080/"
        },
        "id": "rbAx5r4MyUh5",
        "outputId": "083218fb-5d6b-4bf8-c73a-a0b6083c1b14"
      },
      "execution_count": 23,
      "outputs": [
        {
          "output_type": "execute_result",
          "data": {
            "text/plain": [
              "tensor([2., 4., 6.])"
            ]
          },
          "metadata": {},
          "execution_count": 23
        }
      ]
    },
    {
      "cell_type": "markdown",
      "source": [
        "**max of y**"
      ],
      "metadata": {
        "id": "_0ucoqU1ybAI"
      }
    },
    {
      "cell_type": "code",
      "source": [
        "y.max()"
      ],
      "metadata": {
        "colab": {
          "base_uri": "https://localhost:8080/"
        },
        "id": "llwKcwJcyhJv",
        "outputId": "0cd722be-b351-4e71-c1e3-7c774d41d096"
      },
      "execution_count": 24,
      "outputs": [
        {
          "output_type": "execute_result",
          "data": {
            "text/plain": [
              "tensor(3.)"
            ]
          },
          "metadata": {},
          "execution_count": 24
        }
      ]
    },
    {
      "cell_type": "code",
      "source": [
        "torch.max(y)"
      ],
      "metadata": {
        "colab": {
          "base_uri": "https://localhost:8080/"
        },
        "id": "mCtASu9_yn3X",
        "outputId": "2d7bf7b2-3500-42a8-8a05-f43649c659ff"
      },
      "execution_count": 25,
      "outputs": [
        {
          "output_type": "execute_result",
          "data": {
            "text/plain": [
              "tensor(3.)"
            ]
          },
          "metadata": {},
          "execution_count": 25
        }
      ]
    },
    {
      "cell_type": "code",
      "source": [
        "values, indicies = torch.max(y,1)\n",
        "print(values)\n",
        "print(indicies)"
      ],
      "metadata": {
        "colab": {
          "base_uri": "https://localhost:8080/"
        },
        "id": "mU6w2o8TzF9w",
        "outputId": "0afc9795-8ec9-4f6c-8f20-5d9e010e243d"
      },
      "execution_count": 31,
      "outputs": [
        {
          "output_type": "stream",
          "name": "stdout",
          "text": [
            "tensor([3., 3.])\n",
            "tensor([2, 2])\n"
          ]
        }
      ]
    },
    {
      "cell_type": "markdown",
      "source": [
        "**retrive the items from a tensor**\n",
        "when we retreive items from a tensor like y[:,0] it returns a tensor containning the chosen items. however if we want the items without including them in a tensor we can use the item function."
      ],
      "metadata": {
        "id": "qwmYodwS6DkX"
      }
    },
    {
      "cell_type": "code",
      "source": [
        "print(y)\n",
        "print(y[0,0])\n",
        "print(y[0,0].item())"
      ],
      "metadata": {
        "colab": {
          "base_uri": "https://localhost:8080/"
        },
        "id": "h4IDj1JK6CUq",
        "outputId": "d65d55a3-fb68-4cdf-f69b-3c669a037719"
      },
      "execution_count": 34,
      "outputs": [
        {
          "output_type": "stream",
          "name": "stdout",
          "text": [
            "tensor([[1., 2., 3.],\n",
            "        [1., 2., 3.]])\n",
            "tensor(1.)\n",
            "1.0\n"
          ]
        }
      ]
    },
    {
      "cell_type": "markdown",
      "source": [
        "**Convert between tensors and numpy arrays**"
      ],
      "metadata": {
        "id": "rYyn125K7SUn"
      }
    },
    {
      "cell_type": "code",
      "source": [
        "y.numpy()"
      ],
      "metadata": {
        "colab": {
          "base_uri": "https://localhost:8080/"
        },
        "id": "SwakHu4R7AWJ",
        "outputId": "d50df4d2-9419-47d1-e9f6-ffd802c3010a"
      },
      "execution_count": 35,
      "outputs": [
        {
          "output_type": "execute_result",
          "data": {
            "text/plain": [
              "array([[1., 2., 3.],\n",
              "       [1., 2., 3.]], dtype=float32)"
            ]
          },
          "metadata": {},
          "execution_count": 35
        }
      ]
    },
    {
      "cell_type": "code",
      "source": [
        "import numpy as np\n",
        "a = np.array([[1,2],[3,4]])\n",
        "print(a)\n",
        "b = torch.from_numpy(a)\n",
        "print(b)\n",
        "a[0,1] = 3\n",
        "print(a)\n",
        "print(b)"
      ],
      "metadata": {
        "colab": {
          "base_uri": "https://localhost:8080/"
        },
        "id": "85fRS0q-7YlH",
        "outputId": "ac0866fc-9d79-4b1a-8e00-dee8ff052a28"
      },
      "execution_count": 37,
      "outputs": [
        {
          "output_type": "stream",
          "name": "stdout",
          "text": [
            "[[1 2]\n",
            " [3 4]]\n",
            "tensor([[1, 2],\n",
            "        [3, 4]])\n",
            "[[1 3]\n",
            " [3 4]]\n",
            "tensor([[1, 3],\n",
            "        [3, 4]])\n"
          ]
        }
      ]
    }
  ]
}